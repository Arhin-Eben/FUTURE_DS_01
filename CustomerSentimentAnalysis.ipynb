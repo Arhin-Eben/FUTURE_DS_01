{
  "nbformat": 4,
  "nbformat_minor": 0,
  "metadata": {
    "colab": {
      "provenance": [],
      "authorship_tag": "ABX9TyPPu43LtcIEFFwxE3AqeT9w",
      "include_colab_link": true
    },
    "kernelspec": {
      "name": "python3",
      "display_name": "Python 3"
    },
    "language_info": {
      "name": "python"
    }
  },
  "cells": [
    {
      "cell_type": "markdown",
      "metadata": {
        "id": "view-in-github",
        "colab_type": "text"
      },
      "source": [
        "<a href=\"https://colab.research.google.com/github/Arhin-Eben/FUTURE_DS_01/blob/master/CustomerSentimentAnalysis.ipynb\" target=\"_parent\"><img src=\"https://colab.research.google.com/assets/colab-badge.svg\" alt=\"Open In Colab\"/></a>"
      ]
    },
    {
      "cell_type": "code",
      "source": [
        "import pandas as pd\n",
        "import nltk\n",
        "from nltk.corpus import stopwords\n",
        "from nltk.stem import WordNetLemmatizer\n",
        "from nltk.tokenize import word_tokenize\n",
        "import re\n",
        "from textblob import TextBlob\n",
        "import matplotlib.pyplot as plt\n",
        "from wordcloud import WordCloud\n",
        "\n",
        "# Download necessary NLTK resources\n",
        "nltk.download('punkt')\n",
        "nltk.download('stopwords')\n",
        "nltk.download('wordnet')\n",
        "\n",
        "# Function to clean the text\n",
        "def clean_text(text):\n",
        "    # Check if the text is a string before applying lower()\n",
        "    if isinstance(text, str):\n",
        "        text = text.lower()\n",
        "        text = re.sub(r'[^a-zA-Z0-9\\s]', '', text)\n",
        "        text = re.sub(r'\\s+', ' ', text)\n",
        "        return text\n",
        "    else:\n",
        "        # Handle non-string values (e.g., return empty string or NaN)\n",
        "        return ''  # or return float('nan')\n",
        "\n",
        "# Function to analyze sentiment using TextBlob\n",
        "def analyze_sentiment(text):\n",
        "    analysis = TextBlob(text)\n",
        "    if analysis.sentiment.polarity > 0:\n",
        "        return 'Positive'\n",
        "    elif analysis.sentiment.polarity == 0:\n",
        "        return 'Neutral'\n",
        "    else:\n",
        "        return 'Negative'\n",
        "\n",
        "# Load the datasets\n",
        "train_data = pd.read_csv('/content/train.ft.txt', sep='\\t', header=None, names=['sentiment', 'text'])\n",
        "test_data = pd.read_csv('/content/test.ft.txt', sep='\\t', header=None, names=['sentiment', 'text'])\n",
        "\n",
        "# --- Stage 1: Raw Data ---\n",
        "print(\"Stage 1: Raw Data\")\n",
        "print(train_data.head())  # Display the first few rows of the raw data\n",
        "\n",
        "# --- Stage 2: Data Cleaning ---\n",
        "print(\"\\nStage 2: Data Cleaning\")\n",
        "\n",
        "# Apply text cleaning to both datasets\n",
        "train_data['cleaned_text'] = train_data['text'].apply(clean_text)\n",
        "test_data['cleaned_text'] = test_data['text'].apply(clean_text)\n",
        "\n",
        "# Display the first few rows of the cleaned data\n",
        "print(train_data.head())"
      ],
      "metadata": {
        "colab": {
          "base_uri": "https://localhost:8080/"
        },
        "id": "sNJOWPaAXd7o",
        "outputId": "a844fcd6-e97d-477c-8b91-f2a91ef46a1c"
      },
      "execution_count": 19,
      "outputs": [
        {
          "output_type": "stream",
          "name": "stderr",
          "text": [
            "[nltk_data] Downloading package punkt to /root/nltk_data...\n",
            "[nltk_data]   Package punkt is already up-to-date!\n",
            "[nltk_data] Downloading package stopwords to /root/nltk_data...\n",
            "[nltk_data]   Package stopwords is already up-to-date!\n",
            "[nltk_data] Downloading package wordnet to /root/nltk_data...\n",
            "[nltk_data]   Package wordnet is already up-to-date!\n"
          ]
        },
        {
          "output_type": "stream",
          "name": "stdout",
          "text": [
            "Stage 1: Raw Data\n",
            "                                           sentiment  text\n",
            "0  __label__2 Stuning even for the non-gamer: Thi...   NaN\n",
            "1  __label__2 The best soundtrack ever to anythin...   NaN\n",
            "2  __label__2 Amazing!: This soundtrack is my fav...   NaN\n",
            "3  __label__2 Excellent Soundtrack: I truly like ...   NaN\n",
            "4  __label__2 Remember, Pull Your Jaw Off The Flo...   NaN\n",
            "\n",
            "Stage 2: Data Cleaning\n",
            "                                           sentiment  text cleaned_text\n",
            "0  __label__2 Stuning even for the non-gamer: Thi...   NaN             \n",
            "1  __label__2 The best soundtrack ever to anythin...   NaN             \n",
            "2  __label__2 Amazing!: This soundtrack is my fav...   NaN             \n",
            "3  __label__2 Excellent Soundtrack: I truly like ...   NaN             \n",
            "4  __label__2 Remember, Pull Your Jaw Off The Flo...   NaN             \n"
          ]
        }
      ]
    },
    {
      "cell_type": "code",
      "source": [
        "# --- Stage 3: Tokenization ---\n",
        "print(\"\\nStage 3: Tokenization\")\n",
        "train_data['tokens'] = train_data['cleaned_text'].apply(word_tokenize)\n",
        "print(train_data[['cleaned_text', 'tokens']].head())  # Show cleaned text and tokens\n",
        "\n",
        "# --- Stage 4: Stop Word Removal ---\n",
        "print(\"\\nStage 4: Stop Word Removal\")\n",
        "stop_words = set(stopwords.words('english'))\n",
        "train_data['tokens_no_stopwords'] = train_data['tokens'].apply(lambda tokens: [token for token in tokens if token not in stop_words])\n",
        "print(train_data[['tokens', 'tokens_no_stopwords']].head())  # Show tokens before and after stop word removal\n",
        "\n",
        "# --- Stage 5: Lemmatization ---\n",
        "print(\"\\nStage 5: Lemmatization\")\n",
        "lemmatizer = WordNetLemmatizer()\n",
        "train_data['lemmatized_tokens'] = train_data['tokens_no_stopwords'].apply(lambda tokens: [lemmatizer.lemmatize(token) for token in tokens])\n",
        "print(train_data[['tokens_no_stopwords', 'lemmatized_tokens']].head())  # Show tokens before and after lemmatization\n"
      ],
      "metadata": {
        "colab": {
          "base_uri": "https://localhost:8080/"
        },
        "id": "elLrHwt-a0kF",
        "outputId": "58cc5b8e-3009-4f85-c8db-d7e49b333501"
      },
      "execution_count": 20,
      "outputs": [
        {
          "output_type": "stream",
          "name": "stdout",
          "text": [
            "\n",
            "Stage 3: Tokenization\n",
            "  cleaned_text tokens\n",
            "0                  []\n",
            "1                  []\n",
            "2                  []\n",
            "3                  []\n",
            "4                  []\n",
            "\n",
            "Stage 4: Stop Word Removal\n",
            "  tokens tokens_no_stopwords\n",
            "0     []                  []\n",
            "1     []                  []\n",
            "2     []                  []\n",
            "3     []                  []\n",
            "4     []                  []\n",
            "\n",
            "Stage 5: Lemmatization\n",
            "  tokens_no_stopwords lemmatized_tokens\n",
            "0                  []                []\n",
            "1                  []                []\n",
            "2                  []                []\n",
            "3                  []                []\n",
            "4                  []                []\n"
          ]
        }
      ]
    },
    {
      "cell_type": "code",
      "source": [
        "# --- Stage 6: Sentiment Analysis ---\n",
        "print(\"\\nStage 6: Sentiment Analysis\")\n",
        "train_data['sentiment_label'] = train_data['cleaned_text'].apply(analyze_sentiment)\n",
        "print(train_data[['cleaned_text', 'sentiment_label']].head())  # Show cleaned text and sentiment labels\n",
        "\n",
        "# --- Stage 7: Sentiment Distribution ---\n",
        "print(\"\\nStage 7: Sentiment Distribution\")\n",
        "sentiment_counts = train_data['sentiment_label'].value_counts()\n",
        "sentiment_counts.plot(kind='bar', color=['green', 'red', 'blue'])\n",
        "plt.title('Sentiment Distribution')\n",
        "plt.xlabel('Sentiment')\n",
        "plt.ylabel('Count')\n",
        "plt.show()"
      ],
      "metadata": {
        "colab": {
          "base_uri": "https://localhost:8080/",
          "height": 683
        },
        "id": "fxGAmuzubWYc",
        "outputId": "cd48299d-53c9-42fa-b3b7-22c46feb1d46"
      },
      "execution_count": 21,
      "outputs": [
        {
          "output_type": "stream",
          "name": "stdout",
          "text": [
            "\n",
            "Stage 6: Sentiment Analysis\n",
            "  cleaned_text sentiment_label\n",
            "0                      Neutral\n",
            "1                      Neutral\n",
            "2                      Neutral\n",
            "3                      Neutral\n",
            "4                      Neutral\n",
            "\n",
            "Stage 7: Sentiment Distribution\n"
          ]
        },
        {
          "output_type": "display_data",
          "data": {
            "text/plain": [
              "<Figure size 640x480 with 1 Axes>"
            ],
            "image/png": "[encoded data removed]"
          },
          "metadata": {}
        }
      ]
    },
    {
      "cell_type": "code",
      "source": [
        "# --- Stage 8: Word Cloud ---\n",
        "print(\"\\nStage 8: Word Cloud\")\n",
        "positive_words = ' '.join(train_data[train_data['sentiment_label'] == 'Positive']['cleaned_text'].tolist())\n",
        "\n",
        "# Check if positive_words is empty\n",
        "if len(positive_words.strip()) == 0:\n",
        "    print(\"No positive words found to generate a word cloud.\")\n",
        "else:\n",
        "    wordcloud = WordCloud(width=800, height=400, background_color='white').generate(positive_words)\n",
        "    plt.figure(figsize=(10, 5))\n",
        "    plt.imshow(wordcloud, interpolation='bilinear')\n",
        "    plt.axis('off')\n",
        "    plt.title('Word Cloud of Positive Reviews')\n",
        "    plt.show()"
      ],
      "metadata": {
        "colab": {
          "base_uri": "https://localhost:8080/"
        },
        "id": "j5xEoCf5d298",
        "outputId": "6e2de3bc-ddf9-4909-ab24-aaff552062e6"
      },
      "execution_count": 23,
      "outputs": [
        {
          "output_type": "stream",
          "name": "stdout",
          "text": [
            "\n",
            "Stage 8: Word Cloud\n",
            "No positive words found to generate a word cloud.\n"
          ]
        }
      ]
    }
  ]
}