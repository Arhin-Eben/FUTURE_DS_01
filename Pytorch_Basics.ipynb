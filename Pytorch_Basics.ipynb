{
  "nbformat": 4,
  "nbformat_minor": 0,
  "metadata": {
    "colab": {
      "provenance": [],
      "gpuType": "T4",
      "authorship_tag": "ABX9TyNvgpk7r6R/ruOSQCJJcSiF",
      "include_colab_link": true
    },
    "kernelspec": {
      "name": "python3",
      "display_name": "Python 3"
    },
    "language_info": {
      "name": "python"
    },
    "accelerator": "GPU"
  },
  "cells": [
    {
      "cell_type": "markdown",
      "metadata": {
        "id": "view-in-github",
        "colab_type": "text"
      },
      "source": [
        "<a href=\"https://colab.research.google.com/github/Arhin-Eben/Machine-learning-with-python/blob/master/Pytorch_Basics.ipynb\" target=\"_parent\"><img src=\"https://colab.research.google.com/assets/colab-badge.svg\" alt=\"Open In Colab\"/></a>"
      ]
    },
    {
      "cell_type": "code",
      "source": [
        "import torch as tc\n",
        "\n",
        "#create empty tensor\n",
        "x = tc.empty(3)\n",
        "print(x)"
      ],
      "metadata": {
        "colab": {
          "base_uri": "https://localhost:8080/"
        },
        "id": "Jz23WotTjKEb",
        "outputId": "7dff22f0-18ba-4156-aec0-08d196ebd936"
      },
      "execution_count": 1,
      "outputs": [
        {
          "output_type": "stream",
          "name": "stdout",
          "text": [
            "tensor([0., 0., 0.])\n"
          ]
        }
      ]
    },
    {
      "cell_type": "code",
      "source": [
        "#create 2D tensor\n",
        "y = tc.empty(2,3)\n",
        "print(y)"
      ],
      "metadata": {
        "colab": {
          "base_uri": "https://localhost:8080/"
        },
        "id": "LL1SppXRjea5",
        "outputId": "ca795e1d-fe00-4de6-8a71-9062fb186550"
      },
      "execution_count": 2,
      "outputs": [
        {
          "output_type": "stream",
          "name": "stdout",
          "text": [
            "tensor([[-2.7590e-33,  4.5118e-41, -2.7590e-33],\n",
            "        [ 4.5118e-41,  1.5414e-44,  0.0000e+00]])\n"
          ]
        }
      ]
    },
    {
      "cell_type": "code",
      "source": [
        "#create 3D tensor\n",
        "y = tc.empty(2,2,3)\n",
        "print(y)"
      ],
      "metadata": {
        "colab": {
          "base_uri": "https://localhost:8080/"
        },
        "id": "qjRal_f_mhbz",
        "outputId": "d46d5f8b-8f68-480a-bf01-28639a0c7c01"
      },
      "execution_count": 3,
      "outputs": [
        {
          "output_type": "stream",
          "name": "stdout",
          "text": [
            "tensor([[[ 0.0000e+00,  0.0000e+00,  0.0000e+00],\n",
            "         [ 0.0000e+00,  1.3672e-38,  0.0000e+00]],\n",
            "\n",
            "        [[ 9.1084e-44,  0.0000e+00,  2.0541e-01],\n",
            "         [ 0.0000e+00, -3.2758e-31,  4.5119e-41]]])\n"
          ]
        }
      ]
    },
    {
      "cell_type": "code",
      "source": [
        "#Create tensor filled with all ones\n",
        "ones = tc.ones(2,2,3)\n",
        "print(ones)"
      ],
      "metadata": {
        "colab": {
          "base_uri": "https://localhost:8080/"
        },
        "id": "hq8g1iPqmkGq",
        "outputId": "3bfb161a-26df-4734-b209-2e6ece5fc9d9"
      },
      "execution_count": 4,
      "outputs": [
        {
          "output_type": "stream",
          "name": "stdout",
          "text": [
            "tensor([[[1., 1., 1.],\n",
            "         [1., 1., 1.]],\n",
            "\n",
            "        [[1., 1., 1.],\n",
            "         [1., 1., 1.]]])\n"
          ]
        }
      ]
    },
    {
      "cell_type": "code",
      "source": [
        "#Create tensor filled with twos\n",
        "twos = tc.full((2,2,2,3), 2)\n",
        "print(twos)"
      ],
      "metadata": {
        "colab": {
          "base_uri": "https://localhost:8080/"
        },
        "id": "QcKwI7z7qrlS",
        "outputId": "55659740-4f50-4ee1-a0da-92763aab931a"
      },
      "execution_count": 5,
      "outputs": [
        {
          "output_type": "stream",
          "name": "stdout",
          "text": [
            "tensor([[[[2, 2, 2],\n",
            "          [2, 2, 2]],\n",
            "\n",
            "         [[2, 2, 2],\n",
            "          [2, 2, 2]]],\n",
            "\n",
            "\n",
            "        [[[2, 2, 2],\n",
            "          [2, 2, 2]],\n",
            "\n",
            "         [[2, 2, 2],\n",
            "          [2, 2, 2]]]])\n"
          ]
        }
      ]
    },
    {
      "cell_type": "code",
      "source": [],
      "metadata": {
        "id": "ok1NVLJWmm6x"
      },
      "execution_count": 5,
      "outputs": []
    },
    {
      "cell_type": "code",
      "source": [
        "#create tensor with random values\n",
        "x = tc.rand(2,2)\n",
        "y = tc.rand(2,2)\n",
        "print(x)\n",
        "print(y)\n",
        "\n",
        "#Add the random numbers\n",
        "z = x + y\n",
        "print(z)\n",
        "\n",
        "#Subtract them\n",
        "a = x - y\n",
        "print(a)\n",
        "\n",
        "#Multiply them\n",
        "b = x * y\n",
        "print(b)\n",
        "\n",
        "#Divide them\n",
        "c = x / y\n",
        "print(c)"
      ],
      "metadata": {
        "colab": {
          "base_uri": "https://localhost:8080/"
        },
        "id": "6rweAez5rgEy",
        "outputId": "0addb764-7e23-42da-8898-9c883b03aa5b"
      },
      "execution_count": 6,
      "outputs": [
        {
          "output_type": "stream",
          "name": "stdout",
          "text": [
            "tensor([[0.6392, 0.9301],\n",
            "        [0.4977, 0.6393]])\n",
            "tensor([[0.8979, 0.8754],\n",
            "        [0.1296, 0.8104]])\n",
            "tensor([[1.5372, 1.8055],\n",
            "        [0.6273, 1.4497]])\n",
            "tensor([[-0.2587,  0.0548],\n",
            "        [ 0.3681, -0.1710]])\n",
            "tensor([[0.5740, 0.8142],\n",
            "        [0.0645, 0.5181]])\n",
            "tensor([[0.7119, 1.0626],\n",
            "        [3.8401, 0.7889]])\n"
          ]
        }
      ]
    },
    {
      "cell_type": "code",
      "source": [
        "#Slicing in random\n",
        "\n",
        "x = tc.rand(5, 3)\n",
        "print(x)\n",
        "print(x[1, 1].item())"
      ],
      "metadata": {
        "id": "Q_ST7T12sv-4",
        "colab": {
          "base_uri": "https://localhost:8080/"
        },
        "outputId": "19b7cc40-c703-4ca6-8497-843bab273fd2"
      },
      "execution_count": 7,
      "outputs": [
        {
          "output_type": "stream",
          "name": "stdout",
          "text": [
            "tensor([[0.4028, 0.7135, 0.3367],\n",
            "        [0.8500, 0.3426, 0.4042],\n",
            "        [0.1017, 0.0099, 0.8234],\n",
            "        [0.9902, 0.0172, 0.6958],\n",
            "        [0.9941, 0.1554, 0.5423]])\n",
            "0.34259891510009766\n"
          ]
        }
      ]
    },
    {
      "cell_type": "code",
      "source": [
        "#Random with views\n",
        "x = tc.rand(4, 4)\n",
        "print(x)"
      ],
      "metadata": {
        "colab": {
          "base_uri": "https://localhost:8080/"
        },
        "id": "5l1PjtwkOq9h",
        "outputId": "cff070b0-2c89-42f7-e931-eb59d990aeae"
      },
      "execution_count": 8,
      "outputs": [
        {
          "output_type": "stream",
          "name": "stdout",
          "text": [
            "tensor([[0.7320, 0.2181, 0.5677, 0.6040],\n",
            "        [0.0467, 0.5084, 0.4720, 0.7961],\n",
            "        [0.6489, 0.8702, 0.9189, 0.0246],\n",
            "        [0.3550, 0.9335, 0.4174, 0.4091]])\n"
          ]
        }
      ]
    },
    {
      "cell_type": "code",
      "source": [
        "x = tc.rand(4, 4)\n",
        "print(x)\n",
        "y = x.view(16)\n",
        "print(y)"
      ],
      "metadata": {
        "colab": {
          "base_uri": "https://localhost:8080/"
        },
        "id": "ZTIhWJNOP41s",
        "outputId": "538add89-5e7c-4b20-81e3-aa782f023fd8"
      },
      "execution_count": 9,
      "outputs": [
        {
          "output_type": "stream",
          "name": "stdout",
          "text": [
            "tensor([[0.5487, 0.1815, 0.9207, 0.0661],\n",
            "        [0.5915, 0.1387, 0.9559, 0.2559],\n",
            "        [0.3622, 0.3039, 0.2963, 0.2983],\n",
            "        [0.6567, 0.3436, 0.0522, 0.6568]])\n",
            "tensor([0.5487, 0.1815, 0.9207, 0.0661, 0.5915, 0.1387, 0.9559, 0.2559, 0.3622,\n",
            "        0.3039, 0.2963, 0.2983, 0.6567, 0.3436, 0.0522, 0.6568])\n"
          ]
        }
      ]
    },
    {
      "cell_type": "code",
      "source": [
        "y = x.view(-1, 8)\n",
        "print(y)"
      ],
      "metadata": {
        "colab": {
          "base_uri": "https://localhost:8080/"
        },
        "id": "nABZVo_Zw6nC",
        "outputId": "e842ef11-3b15-450e-ceef-2181ae619b92"
      },
      "execution_count": 10,
      "outputs": [
        {
          "output_type": "stream",
          "name": "stdout",
          "text": [
            "tensor([[0.5487, 0.1815, 0.9207, 0.0661, 0.5915, 0.1387, 0.9559, 0.2559],\n",
            "        [0.3622, 0.3039, 0.2963, 0.2983, 0.6567, 0.3436, 0.0522, 0.6568]])\n"
          ]
        }
      ]
    },
    {
      "cell_type": "code",
      "source": [
        "y = x.view(-1, 16)\n",
        "print(y.size())"
      ],
      "metadata": {
        "colab": {
          "base_uri": "https://localhost:8080/"
        },
        "id": "lT2Zi8P6yc9Z",
        "outputId": "e0ab09d4-7b64-45f9-bad4-8f66c80f7a89"
      },
      "execution_count": 11,
      "outputs": [
        {
          "output_type": "stream",
          "name": "stdout",
          "text": [
            "torch.Size([1, 16])\n"
          ]
        }
      ]
    },
    {
      "cell_type": "code",
      "source": [
        "#\n",
        "import numpy as np\n",
        "\n",
        "a = tc.ones(5)\n",
        "print(a)\n",
        "\n",
        "#printing the ones as array\n",
        "b = a.numpy()\n",
        "print(b)"
      ],
      "metadata": {
        "colab": {
          "base_uri": "https://localhost:8080/"
        },
        "id": "j3e-9GVLyta0",
        "outputId": "aba9528b-ff42-4ff1-a353-f3bc5d989575"
      },
      "execution_count": 15,
      "outputs": [
        {
          "output_type": "stream",
          "name": "stdout",
          "text": [
            "tensor([1., 1., 1., 1., 1.])\n",
            "[1. 1. 1. 1. 1.]\n"
          ]
        }
      ]
    },
    {
      "cell_type": "code",
      "source": [],
      "metadata": {
        "id": "pO4l4ev0zKKk"
      },
      "execution_count": null,
      "outputs": []
    }
  ]
}