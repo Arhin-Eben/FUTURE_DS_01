{
  "nbformat": 4,
  "nbformat_minor": 0,
  "metadata": {
    "colab": {
      "provenance": [],
      "authorship_tag": "ABX9TyM0jQEYh8DiObsnmPPEGrBG",
      "include_colab_link": true
    },
    "kernelspec": {
      "name": "python3",
      "display_name": "Python 3"
    },
    "language_info": {
      "name": "python"
    }
  },
  "cells": [
    {
      "cell_type": "markdown",
      "metadata": {
        "id": "view-in-github",
        "colab_type": "text"
      },
      "source": [
        "<a href=\"https://colab.research.google.com/github/Arhin-Eben/Machine-learning-with-python/blob/master/Confusion_matrix_W3schools.ipynb\" target=\"_parent\"><img src=\"https://colab.research.google.com/assets/colab-badge.svg\" alt=\"Open In Colab\"/></a>"
      ]
    },
    {
      "cell_type": "markdown",
      "source": [
        "**CONFUSION MATRIX**"
      ],
      "metadata": {
        "id": "kIo_ki7Em4ft"
      }
    },
    {
      "cell_type": "code",
      "execution_count": null,
      "metadata": {
        "colab": {
          "base_uri": "https://localhost:8080/"
        },
        "id": "BMRfdvCtmms5",
        "outputId": "bdade883-d37c-481f-9307-967291dc47de"
      },
      "outputs": [
        {
          "output_type": "stream",
          "name": "stdout",
          "text": [
            "[[  7  89]\n",
            " [ 81 823]]\n"
          ]
        }
      ],
      "source": [
        "import numpy as np\n",
        "from sklearn import metrics\n",
        "import matplotlib.pyplot as plt\n",
        "\n",
        "#Generating numbers for \"actual\" and \"predicted\" values\n",
        "actual = np.random.binomial(1, 0.9, size = 1000)\n",
        "predicted = np.random.binomial(1, 0.9, size = 1000)\n",
        "\n",
        "#confusion matrix function\n",
        "confusion_matrix = metrics.confusion_matrix(actual, predicted)\n",
        "print(confusion_matrix)"
      ]
    },
    {
      "cell_type": "code",
      "source": [
        "#To create a more interpretable visual display, we convert the table into a confusion matrix display\n",
        "cm_display = metrics.ConfusionMatrixDisplay(confusion_matrix = confusion_matrix, display_labels = [False, True])\n",
        "cm_display.plot()\n",
        "plt.show()\n",
        "\n",
        "#Vizualizing the display requires that we import pyplot from matplotlib"
      ],
      "metadata": {
        "colab": {
          "base_uri": "https://localhost:8080/",
          "height": 449
        },
        "id": "EI1dpSvZv_Bc",
        "outputId": "def44807-4f7f-43cf-a898-3b108dca0179"
      },
      "execution_count": null,
      "outputs": [
        {
          "output_type": "display_data",
          "data": {
            "text/plain": [
              "<Figure size 640x480 with 2 Axes>"
            ],
            "image/png": "[encoded data removed]"
          },
          "metadata": {}
        }
      ]
    },
    {
      "cell_type": "markdown",
      "source": [
        "**Results Explained**"
      ],
      "metadata": {
        "id": "YwPcVP3w05uQ"
      }
    },
    {
      "cell_type": "markdown",
      "source": [
        "True Negative (Top-Left Quadrant)\n",
        "\n",
        "False Positive (Top-Right Quadrant)\n",
        "\n",
        "False Negative (Bottom-Left Quadrant)\n",
        "\n",
        "True Positive (Bottom-Right Quadrant)\n",
        "\n",
        "True means that the values were accurately predicted, False means that there was an error or wrong prediction."
      ],
      "metadata": {
        "id": "wsFNbQV91FuY"
      }
    },
    {
      "cell_type": "markdown",
      "source": [
        "**Accuracy**"
      ],
      "metadata": {
        "id": "j2aJvbO4Be-u"
      }
    },
    {
      "cell_type": "code",
      "source": [
        "#Accuracy measures how often the model is correct.\n",
        "#(True Positive + True Negative) / Total Predictions"
      ],
      "metadata": {
        "id": "vpnnDbIZ0QTm"
      },
      "execution_count": null,
      "outputs": []
    },
    {
      "cell_type": "code",
      "source": [
        "Accuracy = metrics.accuracy_score(actual, predicted)\n",
        "print(Accuracy)"
      ],
      "metadata": {
        "colab": {
          "base_uri": "https://localhost:8080/"
        },
        "id": "abRAZnD8B2bu",
        "outputId": "949bfe25-1f5d-442e-e86e-0815533c59f2"
      },
      "execution_count": 9,
      "outputs": [
        {
          "output_type": "stream",
          "name": "stdout",
          "text": [
            "0.83\n"
          ]
        }
      ]
    },
    {
      "cell_type": "markdown",
      "source": [
        "**Precision**"
      ],
      "metadata": {
        "id": "CV5uXBzECMPV"
      }
    },
    {
      "cell_type": "code",
      "source": [
        "#Of the positives predicted, what percentage is truly positive?\n",
        "#How to Calculate\n",
        "#True Positive / (True Positive + False Positive)\n",
        "#Precision does not evaluate the correctly predicted negative cases:\n",
        "precision = metrics.precision_score(actual, predicted)\n",
        "print(precision)"
      ],
      "metadata": {
        "colab": {
          "base_uri": "https://localhost:8080/"
        },
        "id": "p7MQaw92CV4f",
        "outputId": "fb556cb8-f786-43d0-ff85-5944798fa2c0"
      },
      "execution_count": 10,
      "outputs": [
        {
          "output_type": "stream",
          "name": "stdout",
          "text": [
            "0.9024122807017544\n"
          ]
        }
      ]
    },
    {
      "cell_type": "markdown",
      "source": [
        "**Sensitivity (Recall)**"
      ],
      "metadata": {
        "id": "EWK8rkonCysF"
      }
    },
    {
      "cell_type": "code",
      "source": [
        "#True Positive / (True Positive + False Negative)\n",
        "sensitivity_recall = metrics.recall_score(actual, predicted)\n",
        "print(sensitivity_recall)"
      ],
      "metadata": {
        "colab": {
          "base_uri": "https://localhost:8080/"
        },
        "id": "MKn-kpbQCslY",
        "outputId": "1c7d099f-3497-4bde-c0f5-9d671ea19bff"
      },
      "execution_count": 11,
      "outputs": [
        {
          "output_type": "stream",
          "name": "stdout",
          "text": [
            "0.9103982300884956\n"
          ]
        }
      ]
    },
    {
      "cell_type": "markdown",
      "source": [
        "**Specificity**"
      ],
      "metadata": {
        "id": "ZLTe5Q3BDPip"
      }
    },
    {
      "cell_type": "code",
      "source": [
        "#True Negative / (True Negative + False Positive)\n",
        "specificity = metrics.recall_score(actual, predicted, pos_label = 0)\n",
        "print(specificity)"
      ],
      "metadata": {
        "colab": {
          "base_uri": "https://localhost:8080/"
        },
        "id": "SihGKi4-DCW3",
        "outputId": "28b1cb9d-9ad5-476e-c8f1-cd1278732ab6"
      },
      "execution_count": 12,
      "outputs": [
        {
          "output_type": "stream",
          "name": "stdout",
          "text": [
            "0.07291666666666667\n"
          ]
        }
      ]
    },
    {
      "cell_type": "markdown",
      "source": [
        "**F-score**"
      ],
      "metadata": {
        "id": "20h27sWPDbA9"
      }
    },
    {
      "cell_type": "code",
      "source": [
        "#2 * ((Precision * Sensitivity) / (Precision + Sensitivity))\n",
        "metrics.f1_score = metrics.f1_score(actual, predicted)\n",
        "print(metrics.f1_score)"
      ],
      "metadata": {
        "colab": {
          "base_uri": "https://localhost:8080/"
        },
        "id": "srLPsaC_DY0L",
        "outputId": "d1ea0e44-b513-4dd5-9e91-ed12a8378a7c"
      },
      "execution_count": 13,
      "outputs": [
        {
          "output_type": "stream",
          "name": "stdout",
          "text": [
            "0.9063876651982379\n"
          ]
        }
      ]
    },
    {
      "cell_type": "markdown",
      "source": [
        "**All calulations in one:**"
      ],
      "metadata": {
        "id": "LjI5GSncD3ZB"
      }
    },
    {
      "cell_type": "code",
      "source": [
        "#printing all metrics, Accuracy, precision,sensitivity_recall,specificity and F1_score\n",
        "print({\"Accuracy\":Accuracy,\"precision\":precision,\"sensitivity_recall\":sensitivity_recall,\"specificity\":specificity,\"F1_score\":metrics.f1_score})\n"
      ],
      "metadata": {
        "colab": {
          "base_uri": "https://localhost:8080/"
        },
        "id": "mdorGx2xDqZX",
        "outputId": "cf949de7-f7b4-4ab7-f348-5e66b5be3b3a"
      },
      "execution_count": 17,
      "outputs": [
        {
          "output_type": "stream",
          "name": "stdout",
          "text": [
            "{'Accuracy': 0.83, 'precision': 0.9024122807017544, 'sensitivity_recall': 0.9103982300884956, 'specificity': 0.07291666666666667, 'F1_score': 0.9063876651982379}\n"
          ]
        }
      ]
    },
    {
      "cell_type": "code",
      "source": [],
      "metadata": {
        "id": "WGfbyHaXFhp_"
      },
      "execution_count": null,
      "outputs": []
    }
  ]
}