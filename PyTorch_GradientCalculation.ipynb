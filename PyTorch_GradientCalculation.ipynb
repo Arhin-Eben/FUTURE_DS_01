{
  "nbformat": 4,
  "nbformat_minor": 0,
  "metadata": {
    "colab": {
      "provenance": [],
      "authorship_tag": "ABX9TyMG9j86GpM/mEKg5QxSLVpA",
      "include_colab_link": true
    },
    "kernelspec": {
      "name": "python3",
      "display_name": "Python 3"
    },
    "language_info": {
      "name": "python"
    }
  },
  "cells": [
    {
      "cell_type": "markdown",
      "metadata": {
        "id": "view-in-github",
        "colab_type": "text"
      },
      "source": [
        "<a href=\"https://colab.research.google.com/github/Arhin-Eben/Machine-learning-with-python/blob/master/PyTorch_GradientCalculation.ipynb\" target=\"_parent\"><img src=\"https://colab.research.google.com/assets/colab-badge.svg\" alt=\"Open In Colab\"/></a>"
      ]
    },
    {
      "cell_type": "markdown",
      "source": [
        "** Gradient Calculation With Autograd**"
      ],
      "metadata": {
        "id": "mZPQkPy32M1M"
      }
    },
    {
      "cell_type": "code",
      "execution_count": 2,
      "metadata": {
        "colab": {
          "base_uri": "https://localhost:8080/"
        },
        "id": "NM8IcpaZ1pBv",
        "outputId": "0f68c723-1010-4fb3-a1dd-a6c9328a93de"
      },
      "outputs": [
        {
          "output_type": "stream",
          "name": "stdout",
          "text": [
            "tensor([ 1.0305, -1.3686,  0.4789], requires_grad=True)\n",
            "tensor([3.0305, 0.6314, 2.4789], grad_fn=<AddBackward0>)\n",
            "tensor([18.3676,  0.7974, 12.2896], grad_fn=<MulBackward0>)\n",
            "tensor(10.4849, grad_fn=<MeanBackward0>)\n",
            "tensor([4.0406, 0.8419, 3.3052])\n"
          ]
        }
      ],
      "source": [
        "import torch\n",
        "\n",
        "x= torch.randn(3,requires_grad=True)\n",
        "print(x)\n",
        "\n",
        "y = x+2\n",
        "print(y)\n",
        "\n",
        "z = y*y*2\n",
        "print(z)\n",
        "\n",
        "z = z.mean()\n",
        "print(z)\n",
        "\n",
        "z.backward() #dz/dx\n",
        "print(x.grad)\n",
        "\n",
        "v = torch.tensor([0.1,1.0,0.001],dtype=torch.float32)\n",
        "z.backward(v) #dz/dx\n",
        "print(x.grad)"
      ]
    },
    {
      "cell_type": "code",
      "source": [
        "# x.requires_grad_(False)\n",
        "x.requires_grad_(False)\n",
        "print(x)\n",
        "\n",
        "#x.detouch()\n",
        "y = x.detach()\n",
        "print(y)\n",
        "\n",
        "#with torch.no_grad():\n",
        "with torch.no_grad():\n",
        "  y = x+2\n",
        "  print(y)"
      ],
      "metadata": {
        "colab": {
          "base_uri": "https://localhost:8080/"
        },
        "id": "nViUPgJI2YOC",
        "outputId": "720b933a-a035-4620-e741-742f51874b4d"
      },
      "execution_count": 3,
      "outputs": [
        {
          "output_type": "stream",
          "name": "stdout",
          "text": [
            "tensor([ 1.0305, -1.3686,  0.4789])\n",
            "tensor([ 1.0305, -1.3686,  0.4789])\n",
            "tensor([3.0305, 0.6314, 2.4789])\n"
          ]
        }
      ]
    },
    {
      "cell_type": "code",
      "source": [
        "#Just some dummy example\n",
        "weights = torch.ones(4,requires_grad=True)\n",
        "\n",
        "for epoch in range(3):\n",
        "  model_output = (weights*3).sum()\n",
        "\n",
        "  model_output.backward()\n",
        "\n",
        "  print(weights.grad)\n",
        "\n",
        "  weights.grad.zero_()\n"
      ],
      "metadata": {
        "colab": {
          "base_uri": "https://localhost:8080/"
        },
        "id": "5MTkT98H5SlM",
        "outputId": "42ac04be-1c13-42e2-e048-5f4154893f9f"
      },
      "execution_count": 6,
      "outputs": [
        {
          "output_type": "stream",
          "name": "stdout",
          "text": [
            "tensor([3., 3., 3., 3.])\n",
            "tensor([3., 3., 3., 3.])\n",
            "tensor([3., 3., 3., 3.])\n"
          ]
        }
      ]
    },
    {
      "cell_type": "code",
      "source": [
        "#Optimizer\n",
        "optimizer = torch.optim.SGD(weights,lr=0.01)\n",
        "optimizer.step()\n",
        "optimizer.zero_grad()"
      ],
      "metadata": {
        "id": "6-5BCuBe6CyA"
      },
      "execution_count": null,
      "outputs": []
    }
  ]
}