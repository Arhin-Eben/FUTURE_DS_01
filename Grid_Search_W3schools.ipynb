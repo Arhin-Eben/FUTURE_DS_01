{
  "cells": [
    {
      "cell_type": "markdown",
      "metadata": {
        "id": "view-in-github",
        "colab_type": "text"
      },
      "source": [
        "<a href=\"https://colab.research.google.com/github/Arhin-Eben/Machine-learning-with-python/blob/master/Grid_Search_W3schools.ipynb\" target=\"_parent\"><img src=\"https://colab.research.google.com/assets/colab-badge.svg\" alt=\"Open In Colab\"/></a>"
      ]
    },
    {
      "cell_type": "markdown",
      "metadata": {
        "id": "aaSXw-NbDren"
      },
      "source": [
        "**Grid Search**"
      ]
    },
    {
      "cell_type": "code",
      "execution_count": null,
      "metadata": {
        "colab": {
          "background_save": true
        },
        "id": "T861TPrhDh5i"
      },
      "outputs": [],
      "source": [
        "from sklearn import datasets\n",
        "iris = datasets.load_iris()\n"
      ]
    },
    {
      "cell_type": "code",
      "execution_count": null,
      "metadata": {
        "colab": {
          "background_save": true
        },
        "id": "OHb3bn2rWClE"
      },
      "outputs": [],
      "source": [
        "#independent variables X and a dependant variable y.\n",
        "X = iris['data']\n",
        "y = iris['target']"
      ]
    },
    {
      "cell_type": "code",
      "execution_count": null,
      "metadata": {
        "colab": {
          "background_save": true
        },
        "id": "0FR8s8PfW0i9"
      },
      "outputs": [],
      "source": [
        "#load the logistic model for classifying the iris flowers\n",
        "from sklearn.linear_model import LogisticRegression\n",
        "\n",
        "#Creating the model, setting max_iter to a higher value to ensure that the model finds a result\n",
        "logit = LogisticRegression(max_iter=1000)\n"
      ]
    },
    {
      "cell_type": "code",
      "execution_count": null,
      "metadata": {
        "colab": {
          "background_save": true,
          "base_uri": "https://localhost:8080/"
        },
        "id": "I-PaAXmtXbec",
        "outputId": "9e85c2d5-34c5-4f31-e17a-186ce1337448"
      },
      "outputs": [
        {
          "name": "stdout",
          "output_type": "stream",
          "text": [
            "LogisticRegression(max_iter=1000)\n"
          ]
        }
      ],
      "source": [
        "#fit the model to the data\n",
        "print(logit.fit(X,y))"
      ]
    },
    {
      "cell_type": "code",
      "execution_count": null,
      "metadata": {
        "colab": {
          "background_save": true,
          "base_uri": "https://localhost:8080/"
        },
        "id": "If7x8V8OXsjW",
        "outputId": "08dff6f9-8910-4668-b642-6c443c33bbcb"
      },
      "outputs": [
        {
          "name": "stdout",
          "output_type": "stream",
          "text": [
            "0.9733333333333334\n"
          ]
        }
      ],
      "source": [
        "print(logit.score(X,y))"
      ]
    },
    {
      "cell_type": "markdown",
      "metadata": {
        "id": "kGSSvoXfX6Ow"
      },
      "source": [
        "With the default setting of C = 1, we achieved a score of 0.973"
      ]
    },
    {
      "cell_type": "code",
      "execution_count": null,
      "metadata": {
        "colab": {
          "base_uri": "https://localhost:8080/",
          "height": 35
        },
        "id": "mt-WsG4FXy_i",
        "outputId": "a3b41c7d-9b93-4bf9-cb56-28f806766723"
      },
      "outputs": [
        {
          "data": {
            "application/vnd.google.colaboratory.intrinsic+json": {
              "type": "string"
            },
            "text/plain": [
              "''"
            ]
          },
          "execution_count": 6,
          "metadata": {},
          "output_type": "execute_result"
        }
      ],
      "source": [
        "\"\"\"\"\"\"\"\"\"\"\"\"\"\"\"\"\"\"\"\"\"\"\"\"\"\"\"\"\"\"\"\"\"\"\"\"\"\"\"\"\"\"\"\"\"\"\"\"\"\"\"\"\"\"\"\"\"\"\"\"\"\"\"\"\"\"\"\"\"\"\"\"\"\"\"\"\"\"\"\"\"\"\"\"\"\"\"\"\"\"\"\"\"\"\"\"\"\"\"\"\"\"\"\""
      ]
    },
    {
      "cell_type": "markdown",
      "metadata": {
        "id": "zX6VzMOPYLvk"
      },
      "source": [
        "Let's see if we can do any better by implementing a grid search with difference values of 0.973."
      ]
    },
    {
      "cell_type": "code",
      "execution_count": 18,
      "metadata": {
        "id": "D8XiN6aCYICc",
        "colab": {
          "base_uri": "https://localhost:8080/"
        },
        "outputId": "89da6e5f-7f10-4b68-f799-8defadde9ce1"
      },
      "outputs": [
        {
          "output_type": "stream",
          "name": "stdout",
          "text": [
            "[0.9666666666666667]\n",
            "[0.9666666666666667, 0.9666666666666667]\n",
            "[0.9666666666666667, 0.9666666666666667, 0.9733333333333334]\n",
            "[0.9666666666666667, 0.9666666666666667, 0.9733333333333334, 0.9733333333333334]\n",
            "[0.9666666666666667, 0.9666666666666667, 0.9733333333333334, 0.9733333333333334, 0.98]\n",
            "[0.9666666666666667, 0.9666666666666667, 0.9733333333333334, 0.9733333333333334, 0.98, 0.98]\n",
            "[0.9666666666666667, 0.9666666666666667, 0.9733333333333334, 0.9733333333333334, 0.98, 0.98, 0.9866666666666667]\n",
            "[0.9666666666666667, 0.9666666666666667, 0.9733333333333334, 0.9733333333333334, 0.98, 0.98, 0.9866666666666667, 0.9866666666666667]\n"
          ]
        }
      ],
      "source": [
        "#Implementing Grid Search\n",
        "#Since the default value for C is 1, we will set a range of values surrounding it.\n",
        "C = [0.25, 0.5, 0.75, 1, 1.25, 1.5, 1.75, 2]\n",
        "\n",
        "#for loop to change out the values of C and evaluate the model with each change\n",
        "scores = []\n",
        "\n",
        "for choice in C:\n",
        "  logit.set_params(C=choice)\n",
        "  logit.fit(X,y)\n",
        "  scores.append(logit.score(X,y))\n",
        "\n",
        "#With the scores stored in a list, we can evaluate what the best choice of C is\n",
        "  print(scores)"
      ]
    },
    {
      "cell_type": "markdown",
      "source": [
        "We can see that the lower values of C performed worse than\n",
        "the base parameter of 1.\n",
        "\n",
        "However, as we increased the value of C to 1.75 the model experienced increased accuracy.\n",
        "\n",
        "\n",
        "It seems that increasing C beyond this amount does not\n",
        "help increase model accuracy."
      ],
      "metadata": {
        "id": "3UstQDa6bmlc"
      }
    },
    {
      "cell_type": "code",
      "source": [],
      "metadata": {
        "id": "G0Bmc3ddZ6v7"
      },
      "execution_count": null,
      "outputs": []
    }
  ],
  "metadata": {
    "colab": {
      "provenance": [],
      "authorship_tag": "ABX9TyMC/Jh1UpP1GDqCW4RDKUi5",
      "include_colab_link": true
    },
    "kernelspec": {
      "display_name": "Python 3",
      "name": "python3"
    },
    "language_info": {
      "name": "python"
    }
  },
  "nbformat": 4,
  "nbformat_minor": 0
}