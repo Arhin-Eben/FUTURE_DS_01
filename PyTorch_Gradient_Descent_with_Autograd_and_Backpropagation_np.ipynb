{
  "nbformat": 4,
  "nbformat_minor": 0,
  "metadata": {
    "colab": {
      "provenance": [],
      "authorship_tag": "ABX9TyOd8szaU/zI4CFrvqHXcM+I",
      "include_colab_link": true
    },
    "kernelspec": {
      "name": "python3",
      "display_name": "Python 3"
    },
    "language_info": {
      "name": "python"
    }
  },
  "cells": [
    {
      "cell_type": "markdown",
      "metadata": {
        "id": "view-in-github",
        "colab_type": "text"
      },
      "source": [
        "<a href=\"https://colab.research.google.com/github/Arhin-Eben/Machine-learning-with-python/blob/master/PyTorch_Gradient_Descent_with_Autograd_and_Backpropagation_np.ipynb\" target=\"_parent\"><img src=\"https://colab.research.google.com/assets/colab-badge.svg\" alt=\"Open In Colab\"/></a>"
      ]
    },
    {
      "cell_type": "markdown",
      "source": [
        "**Gradient Descent with Autograd and Backpropagation**"
      ],
      "metadata": {
        "id": "Ik10ijMGZyzT"
      }
    },
    {
      "cell_type": "code",
      "execution_count": 1,
      "metadata": {
        "colab": {
          "base_uri": "https://localhost:8080/"
        },
        "id": "V5ZC970lZrNs",
        "outputId": "ce304acd-3941-4a6e-ff6c-8d06c8fbe696"
      },
      "outputs": [
        {
          "output_type": "stream",
          "name": "stdout",
          "text": [
            "Prediction before training: f(5) = 0.000\n",
            "epoch 1: w = 1.200, loss = 30.00000000\n",
            "epoch 3: w = 1.872, loss = 0.76800019\n",
            "epoch 5: w = 1.980, loss = 0.01966083\n",
            "epoch 7: w = 1.997, loss = 0.00050332\n",
            "epoch 9: w = 1.999, loss = 0.00001288\n",
            "epoch 11: w = 2.000, loss = 0.00000033\n",
            "epoch 13: w = 2.000, loss = 0.00000001\n",
            "epoch 15: w = 2.000, loss = 0.00000000\n",
            "epoch 17: w = 2.000, loss = 0.00000000\n",
            "epoch 19: w = 2.000, loss = 0.00000000\n",
            "Prediction after training: f(5) = 10.000\n"
          ]
        }
      ],
      "source": [
        "import numpy as np\n",
        "\n",
        "# f = w * x\n",
        "\n",
        "# f = 2 * x\n",
        "x = np.array([1, 2, 3, 4], dtype=np.float32)\n",
        "y = np.array([2, 4, 6, 8], dtype=np.float32)\n",
        "\n",
        "w = 0.0\n",
        "\n",
        "# Model prediction\n",
        "def forward(x):\n",
        "    return w * x\n",
        "\n",
        "# Loss = MSE\n",
        "def loss(y, y_pred):\n",
        "    return ((y_pred - y)**2).mean()\n",
        "\n",
        "# Gradient\n",
        "# MSE = 1/N 2x (w*x - y)**2\n",
        "# dj/dw = 1/n 2x (w*x -y)\n",
        "def gradient(x, y, y_pred):\n",
        "    return np.dot(2*x, y_pred - y).mean()\n",
        "\n",
        "print(f'Prediction before training: f(5) = {forward(5):.3f}')\n",
        "\n",
        "#Training\n",
        "learning_rate = 0.01\n",
        "n_iters = 20\n",
        "\n",
        "for epoch in range(n_iters):\n",
        "    # prediction = forward pass\n",
        "    y_pred = forward(x)\n",
        "\n",
        "    # loss\n",
        "    l = loss(y, y_pred)\n",
        "\n",
        "    # gradients\n",
        "    dw = gradient(x, y, y_pred)\n",
        "\n",
        "    # update weights\n",
        "    w -= learning_rate * dw\n",
        "\n",
        "    if epoch % 2 == 0:\n",
        "        print(f'epoch {epoch+1}: w = {w:.3f}, loss = {l:.8f}')\n",
        "\n",
        "print(f'Prediction after training: f(5) = {forward(5):.3f}')"
      ]
    },
    {
      "cell_type": "code",
      "source": [],
      "metadata": {
        "id": "i3EnwwjKga_7"
      },
      "execution_count": null,
      "outputs": []
    }
  ]
}